{
 "cells": [
  {
   "cell_type": "markdown",
   "metadata": {},
   "source": [
    "# CASE STUDY: SUBSCRIPTION PRODUCTS\n",
    "# Brilliant"
   ]
  },
  {
   "cell_type": "markdown",
   "metadata": {},
   "source": [
    "# STEP #1 IMPORTING LIBRARIES AND DATA"
   ]
  },
  {
   "cell_type": "code",
   "execution_count": 10,
   "metadata": {},
   "outputs": [],
   "source": [
    "# Importing Libraries\n",
    "import pandas as pd\n",
    "import numpy as np\n",
    "import random\n",
    "import seaborn as sn\n",
    "import matplotlib.pyplot as plt"
   ]
  },
  {
   "cell_type": "code",
   "execution_count": 11,
   "metadata": {},
   "outputs": [],
   "source": [
    "# Importing Data\n",
    "dataset = pd.read_csv('data/new_churn_data.csv')"
   ]
  },
  {
   "cell_type": "markdown",
   "metadata": {},
   "source": [
    "## Data Preprocessing"
   ]
  },
  {
   "cell_type": "code",
   "execution_count": 12,
   "metadata": {},
   "outputs": [],
   "source": [
    "#Data preparation\n",
    "user_identifier = dataset['user']\n",
    "dataset = dataset.drop(columns = ['user'])"
   ]
  },
  {
   "cell_type": "markdown",
   "metadata": {},
   "source": [
    "## One Hot Encoding"
   ]
  },
  {
   "cell_type": "code",
   "execution_count": 13,
   "metadata": {},
   "outputs": [
    {
     "data": {
      "text/plain": [
       "R     9221\n",
       "na    7910\n",
       "O     1834\n",
       "Name: housing, dtype: int64"
      ]
     },
     "execution_count": 13,
     "metadata": {},
     "output_type": "execute_result"
    }
   ],
   "source": [
    "dataset.housing.value_counts()"
   ]
  },
  {
   "cell_type": "code",
   "execution_count": 14,
   "metadata": {},
   "outputs": [
    {
     "data": {
      "text/html": [
       "<div>\n",
       "<style scoped>\n",
       "    .dataframe tbody tr th:only-of-type {\n",
       "        vertical-align: middle;\n",
       "    }\n",
       "\n",
       "    .dataframe tbody tr th {\n",
       "        vertical-align: top;\n",
       "    }\n",
       "\n",
       "    .dataframe thead th {\n",
       "        text-align: right;\n",
       "    }\n",
       "</style>\n",
       "<table border=\"1\" class=\"dataframe\">\n",
       "  <thead>\n",
       "    <tr style=\"text-align: right;\">\n",
       "      <th></th>\n",
       "      <th>housing</th>\n",
       "      <th>churn</th>\n",
       "    </tr>\n",
       "  </thead>\n",
       "  <tbody>\n",
       "    <tr>\n",
       "      <th>0</th>\n",
       "      <td>O</td>\n",
       "      <td>2</td>\n",
       "    </tr>\n",
       "    <tr>\n",
       "      <th>1</th>\n",
       "      <td>R</td>\n",
       "      <td>2</td>\n",
       "    </tr>\n",
       "    <tr>\n",
       "      <th>2</th>\n",
       "      <td>na</td>\n",
       "      <td>2</td>\n",
       "    </tr>\n",
       "  </tbody>\n",
       "</table>\n",
       "</div>"
      ],
      "text/plain": [
       "  housing  churn\n",
       "0       O      2\n",
       "1       R      2\n",
       "2      na      2"
      ]
     },
     "execution_count": 14,
     "metadata": {},
     "output_type": "execute_result"
    }
   ],
   "source": [
    "dataset.groupby('housing')['churn'].nunique().reset_index()"
   ]
  },
  {
   "cell_type": "code",
   "execution_count": 15,
   "metadata": {},
   "outputs": [],
   "source": [
    "dataset = pd.get_dummies(dataset)"
   ]
  },
  {
   "cell_type": "code",
   "execution_count": 16,
   "metadata": {},
   "outputs": [
    {
     "data": {
      "text/plain": [
       "Index(['churn', 'age', 'deposits', 'withdrawal', 'purchases_partners',\n",
       "       'purchases', 'cc_taken', 'cc_recommended', 'cc_disliked', 'cc_liked',\n",
       "       'cc_application_begin', 'app_downloaded', 'web_user', 'ios_user',\n",
       "       'android_user', 'registered_phones', 'waiting_4_loan', 'cancelled_loan',\n",
       "       'received_loan', 'rejected_loan', 'left_for_two_month_plus',\n",
       "       'left_for_one_month', 'reward_rate', 'is_referred', 'housing_O',\n",
       "       'housing_R', 'housing_na', 'payment_type_Bi-Weekly',\n",
       "       'payment_type_Monthly', 'payment_type_Semi-Monthly',\n",
       "       'payment_type_Weekly', 'payment_type_na', 'zodiac_sign_Aquarius',\n",
       "       'zodiac_sign_Aries', 'zodiac_sign_Cancer', 'zodiac_sign_Capricorn',\n",
       "       'zodiac_sign_Gemini', 'zodiac_sign_Leo', 'zodiac_sign_Libra',\n",
       "       'zodiac_sign_Pisces', 'zodiac_sign_Sagittarius', 'zodiac_sign_Scorpio',\n",
       "       'zodiac_sign_Taurus', 'zodiac_sign_Virgo', 'zodiac_sign_na'],\n",
       "      dtype='object')"
      ]
     },
     "execution_count": 16,
     "metadata": {},
     "output_type": "execute_result"
    }
   ],
   "source": [
    "dataset.columns"
   ]
  },
  {
   "cell_type": "code",
   "execution_count": 17,
   "metadata": {},
   "outputs": [],
   "source": [
    "dataset = dataset.drop(columns = ['housing_na', 'zodiac_sign_na', 'payment_type_na'])"
   ]
  },
  {
   "cell_type": "code",
   "execution_count": 20,
   "metadata": {},
   "outputs": [],
   "source": [
    "# Splitting the dataset into the Training set and Test set\n",
    "from sklearn.model_selection import train_test_split\n",
    "X_train, X_test, y_train, y_test = train_test_split(dataset.drop(columns = 'churn'), dataset['churn'],\n",
    "                                                    test_size = 0.2,\n",
    "                                                    random_state = 0)"
   ]
  },
  {
   "cell_type": "code",
   "execution_count": 21,
   "metadata": {},
   "outputs": [
    {
     "data": {
      "text/plain": [
       "0    8934\n",
       "1    6238\n",
       "Name: churn, dtype: int64"
      ]
     },
     "execution_count": 21,
     "metadata": {},
     "output_type": "execute_result"
    }
   ],
   "source": [
    "# Balancing the Training Set\n",
    "y_train.value_counts()"
   ]
  },
  {
   "cell_type": "code",
   "execution_count": 22,
   "metadata": {},
   "outputs": [],
   "source": [
    "pos_index = y_train[y_train.values == 1].index\n",
    "neg_index = y_train[y_train.values == 0].index"
   ]
  },
  {
   "cell_type": "code",
   "execution_count": 23,
   "metadata": {},
   "outputs": [],
   "source": [
    "if len(pos_index) > len(neg_index):\n",
    "    higher = pos_index\n",
    "    lower = neg_index\n",
    "else:\n",
    "    higher = neg_index\n",
    "    lower = pos_index"
   ]
  },
  {
   "cell_type": "code",
   "execution_count": 24,
   "metadata": {},
   "outputs": [],
   "source": [
    "random.seed(0)\n",
    "higher = np.random.choice(higher, size=len(lower))\n",
    "lower = np.asarray(lower)\n",
    "new_indexes = np.concatenate((lower, higher))"
   ]
  },
  {
   "cell_type": "code",
   "execution_count": 25,
   "metadata": {},
   "outputs": [],
   "source": [
    "X_train = X_train.loc[new_indexes,]\n",
    "y_train = y_train[new_indexes]"
   ]
  },
  {
   "cell_type": "code",
   "execution_count": 27,
   "metadata": {},
   "outputs": [],
   "source": [
    "# Feature Scaling\n",
    "from sklearn.preprocessing import StandardScaler\n",
    "sc_X = StandardScaler()"
   ]
  },
  {
   "cell_type": "code",
   "execution_count": 28,
   "metadata": {},
   "outputs": [],
   "source": [
    "X_train2 = pd.DataFrame(sc_X.fit_transform(X_train))\n",
    "X_test2 = pd.DataFrame(sc_X.transform(X_test))"
   ]
  },
  {
   "cell_type": "code",
   "execution_count": 29,
   "metadata": {},
   "outputs": [],
   "source": [
    "X_train2.columns = X_train.columns.values\n",
    "X_test2.columns = X_test.columns.values"
   ]
  },
  {
   "cell_type": "code",
   "execution_count": 30,
   "metadata": {},
   "outputs": [],
   "source": [
    "X_train2.index = X_train.index.values\n",
    "X_test2.index = X_test.index.values"
   ]
  },
  {
   "cell_type": "code",
   "execution_count": 32,
   "metadata": {},
   "outputs": [],
   "source": [
    "X_train = X_train2\n",
    "X_test = X_test2"
   ]
  },
  {
   "cell_type": "code",
   "execution_count": 33,
   "metadata": {},
   "outputs": [
    {
     "data": {
      "text/html": [
       "<div>\n",
       "<style scoped>\n",
       "    .dataframe tbody tr th:only-of-type {\n",
       "        vertical-align: middle;\n",
       "    }\n",
       "\n",
       "    .dataframe tbody tr th {\n",
       "        vertical-align: top;\n",
       "    }\n",
       "\n",
       "    .dataframe thead th {\n",
       "        text-align: right;\n",
       "    }\n",
       "</style>\n",
       "<table border=\"1\" class=\"dataframe\">\n",
       "  <thead>\n",
       "    <tr style=\"text-align: right;\">\n",
       "      <th></th>\n",
       "      <th>age</th>\n",
       "      <th>deposits</th>\n",
       "      <th>withdrawal</th>\n",
       "      <th>purchases_partners</th>\n",
       "      <th>purchases</th>\n",
       "      <th>cc_taken</th>\n",
       "      <th>cc_recommended</th>\n",
       "      <th>cc_disliked</th>\n",
       "      <th>cc_liked</th>\n",
       "      <th>cc_application_begin</th>\n",
       "      <th>...</th>\n",
       "      <th>zodiac_sign_Cancer</th>\n",
       "      <th>zodiac_sign_Capricorn</th>\n",
       "      <th>zodiac_sign_Gemini</th>\n",
       "      <th>zodiac_sign_Leo</th>\n",
       "      <th>zodiac_sign_Libra</th>\n",
       "      <th>zodiac_sign_Pisces</th>\n",
       "      <th>zodiac_sign_Sagittarius</th>\n",
       "      <th>zodiac_sign_Scorpio</th>\n",
       "      <th>zodiac_sign_Taurus</th>\n",
       "      <th>zodiac_sign_Virgo</th>\n",
       "    </tr>\n",
       "  </thead>\n",
       "  <tbody>\n",
       "    <tr>\n",
       "      <th>12462</th>\n",
       "      <td>-1.274840</td>\n",
       "      <td>-0.398746</td>\n",
       "      <td>-0.308336</td>\n",
       "      <td>-0.482216</td>\n",
       "      <td>-0.398531</td>\n",
       "      <td>-0.176586</td>\n",
       "      <td>-1.129542</td>\n",
       "      <td>-0.07931</td>\n",
       "      <td>-0.092623</td>\n",
       "      <td>-0.687260</td>\n",
       "      <td>...</td>\n",
       "      <td>-0.321842</td>\n",
       "      <td>-0.161466</td>\n",
       "      <td>-0.296474</td>\n",
       "      <td>-0.313432</td>\n",
       "      <td>3.415551</td>\n",
       "      <td>-0.299185</td>\n",
       "      <td>-0.278330</td>\n",
       "      <td>-0.288562</td>\n",
       "      <td>-0.299503</td>\n",
       "      <td>-0.313432</td>\n",
       "    </tr>\n",
       "    <tr>\n",
       "      <th>11435</th>\n",
       "      <td>0.513694</td>\n",
       "      <td>-0.398746</td>\n",
       "      <td>-0.308336</td>\n",
       "      <td>-0.702543</td>\n",
       "      <td>-0.398531</td>\n",
       "      <td>3.554290</td>\n",
       "      <td>1.668415</td>\n",
       "      <td>1.29687</td>\n",
       "      <td>-0.092623</td>\n",
       "      <td>1.215880</td>\n",
       "      <td>...</td>\n",
       "      <td>-0.321842</td>\n",
       "      <td>-0.161466</td>\n",
       "      <td>-0.296474</td>\n",
       "      <td>-0.313432</td>\n",
       "      <td>-0.292779</td>\n",
       "      <td>-0.299185</td>\n",
       "      <td>-0.278330</td>\n",
       "      <td>-0.288562</td>\n",
       "      <td>-0.299503</td>\n",
       "      <td>-0.313432</td>\n",
       "    </tr>\n",
       "    <tr>\n",
       "      <th>14021</th>\n",
       "      <td>-0.643593</td>\n",
       "      <td>-0.398746</td>\n",
       "      <td>-0.308336</td>\n",
       "      <td>-0.702543</td>\n",
       "      <td>-0.398531</td>\n",
       "      <td>-0.176586</td>\n",
       "      <td>0.365723</td>\n",
       "      <td>-0.07931</td>\n",
       "      <td>-0.092623</td>\n",
       "      <td>-0.458883</td>\n",
       "      <td>...</td>\n",
       "      <td>-0.321842</td>\n",
       "      <td>-0.161466</td>\n",
       "      <td>-0.296474</td>\n",
       "      <td>-0.313432</td>\n",
       "      <td>3.415551</td>\n",
       "      <td>-0.299185</td>\n",
       "      <td>-0.278330</td>\n",
       "      <td>-0.288562</td>\n",
       "      <td>-0.299503</td>\n",
       "      <td>-0.313432</td>\n",
       "    </tr>\n",
       "    <tr>\n",
       "      <th>18149</th>\n",
       "      <td>-0.643593</td>\n",
       "      <td>-0.398746</td>\n",
       "      <td>-0.308336</td>\n",
       "      <td>-0.702543</td>\n",
       "      <td>-0.398531</td>\n",
       "      <td>-0.176586</td>\n",
       "      <td>0.252445</td>\n",
       "      <td>-0.07931</td>\n",
       "      <td>-0.092623</td>\n",
       "      <td>-0.458883</td>\n",
       "      <td>...</td>\n",
       "      <td>-0.321842</td>\n",
       "      <td>-0.161466</td>\n",
       "      <td>-0.296474</td>\n",
       "      <td>-0.313432</td>\n",
       "      <td>-0.292779</td>\n",
       "      <td>-0.299185</td>\n",
       "      <td>-0.278330</td>\n",
       "      <td>3.465456</td>\n",
       "      <td>-0.299503</td>\n",
       "      <td>-0.313432</td>\n",
       "    </tr>\n",
       "    <tr>\n",
       "      <th>12266</th>\n",
       "      <td>1.144941</td>\n",
       "      <td>-0.398746</td>\n",
       "      <td>-0.308336</td>\n",
       "      <td>-0.504248</td>\n",
       "      <td>-0.398531</td>\n",
       "      <td>-0.176586</td>\n",
       "      <td>-0.835020</td>\n",
       "      <td>-0.07931</td>\n",
       "      <td>-0.092623</td>\n",
       "      <td>-0.382758</td>\n",
       "      <td>...</td>\n",
       "      <td>-0.321842</td>\n",
       "      <td>-0.161466</td>\n",
       "      <td>-0.296474</td>\n",
       "      <td>-0.313432</td>\n",
       "      <td>-0.292779</td>\n",
       "      <td>-0.299185</td>\n",
       "      <td>-0.278330</td>\n",
       "      <td>-0.288562</td>\n",
       "      <td>-0.299503</td>\n",
       "      <td>-0.313432</td>\n",
       "    </tr>\n",
       "    <tr>\n",
       "      <th>...</th>\n",
       "      <td>...</td>\n",
       "      <td>...</td>\n",
       "      <td>...</td>\n",
       "      <td>...</td>\n",
       "      <td>...</td>\n",
       "      <td>...</td>\n",
       "      <td>...</td>\n",
       "      <td>...</td>\n",
       "      <td>...</td>\n",
       "      <td>...</td>\n",
       "      <td>...</td>\n",
       "      <td>...</td>\n",
       "      <td>...</td>\n",
       "      <td>...</td>\n",
       "      <td>...</td>\n",
       "      <td>...</td>\n",
       "      <td>...</td>\n",
       "      <td>...</td>\n",
       "      <td>...</td>\n",
       "      <td>...</td>\n",
       "      <td>...</td>\n",
       "    </tr>\n",
       "    <tr>\n",
       "      <th>8901</th>\n",
       "      <td>-0.222761</td>\n",
       "      <td>0.509259</td>\n",
       "      <td>0.563164</td>\n",
       "      <td>0.971944</td>\n",
       "      <td>0.527099</td>\n",
       "      <td>-0.176586</td>\n",
       "      <td>0.750867</td>\n",
       "      <td>-0.07931</td>\n",
       "      <td>-0.092623</td>\n",
       "      <td>-0.306632</td>\n",
       "      <td>...</td>\n",
       "      <td>-0.321842</td>\n",
       "      <td>-0.161466</td>\n",
       "      <td>-0.296474</td>\n",
       "      <td>-0.313432</td>\n",
       "      <td>-0.292779</td>\n",
       "      <td>-0.299185</td>\n",
       "      <td>-0.278330</td>\n",
       "      <td>-0.288562</td>\n",
       "      <td>-0.299503</td>\n",
       "      <td>3.190488</td>\n",
       "    </tr>\n",
       "    <tr>\n",
       "      <th>16499</th>\n",
       "      <td>1.039733</td>\n",
       "      <td>-0.398746</td>\n",
       "      <td>-0.308336</td>\n",
       "      <td>1.258369</td>\n",
       "      <td>-0.398531</td>\n",
       "      <td>-0.176586</td>\n",
       "      <td>0.569622</td>\n",
       "      <td>-0.07931</td>\n",
       "      <td>-0.092623</td>\n",
       "      <td>-0.154381</td>\n",
       "      <td>...</td>\n",
       "      <td>-0.321842</td>\n",
       "      <td>-0.161466</td>\n",
       "      <td>-0.296474</td>\n",
       "      <td>-0.313432</td>\n",
       "      <td>-0.292779</td>\n",
       "      <td>-0.299185</td>\n",
       "      <td>-0.278330</td>\n",
       "      <td>-0.288562</td>\n",
       "      <td>-0.299503</td>\n",
       "      <td>3.190488</td>\n",
       "    </tr>\n",
       "    <tr>\n",
       "      <th>13822</th>\n",
       "      <td>-0.222761</td>\n",
       "      <td>-0.398746</td>\n",
       "      <td>-0.308336</td>\n",
       "      <td>0.773649</td>\n",
       "      <td>-0.398531</td>\n",
       "      <td>-0.176586</td>\n",
       "      <td>0.524311</td>\n",
       "      <td>-0.07931</td>\n",
       "      <td>-0.092623</td>\n",
       "      <td>-0.230506</td>\n",
       "      <td>...</td>\n",
       "      <td>-0.321842</td>\n",
       "      <td>-0.161466</td>\n",
       "      <td>-0.296474</td>\n",
       "      <td>-0.313432</td>\n",
       "      <td>-0.292779</td>\n",
       "      <td>-0.299185</td>\n",
       "      <td>-0.278330</td>\n",
       "      <td>-0.288562</td>\n",
       "      <td>-0.299503</td>\n",
       "      <td>-0.313432</td>\n",
       "    </tr>\n",
       "    <tr>\n",
       "      <th>6036</th>\n",
       "      <td>-1.380048</td>\n",
       "      <td>-0.398746</td>\n",
       "      <td>-0.308336</td>\n",
       "      <td>-0.702543</td>\n",
       "      <td>-0.398531</td>\n",
       "      <td>-0.176586</td>\n",
       "      <td>0.161823</td>\n",
       "      <td>-0.07931</td>\n",
       "      <td>-0.092623</td>\n",
       "      <td>-0.535009</td>\n",
       "      <td>...</td>\n",
       "      <td>-0.321842</td>\n",
       "      <td>-0.161466</td>\n",
       "      <td>-0.296474</td>\n",
       "      <td>-0.313432</td>\n",
       "      <td>-0.292779</td>\n",
       "      <td>3.342410</td>\n",
       "      <td>-0.278330</td>\n",
       "      <td>-0.288562</td>\n",
       "      <td>-0.299503</td>\n",
       "      <td>-0.313432</td>\n",
       "    </tr>\n",
       "    <tr>\n",
       "      <th>16011</th>\n",
       "      <td>-0.959217</td>\n",
       "      <td>-0.398746</td>\n",
       "      <td>-0.308336</td>\n",
       "      <td>-0.438150</td>\n",
       "      <td>-0.398531</td>\n",
       "      <td>-0.176586</td>\n",
       "      <td>-0.857676</td>\n",
       "      <td>-0.07931</td>\n",
       "      <td>-0.092623</td>\n",
       "      <td>-0.763386</td>\n",
       "      <td>...</td>\n",
       "      <td>-0.321842</td>\n",
       "      <td>-0.161466</td>\n",
       "      <td>-0.296474</td>\n",
       "      <td>-0.313432</td>\n",
       "      <td>-0.292779</td>\n",
       "      <td>-0.299185</td>\n",
       "      <td>3.592852</td>\n",
       "      <td>-0.288562</td>\n",
       "      <td>-0.299503</td>\n",
       "      <td>-0.313432</td>\n",
       "    </tr>\n",
       "  </tbody>\n",
       "</table>\n",
       "<p>12476 rows × 41 columns</p>\n",
       "</div>"
      ],
      "text/plain": [
       "            age  deposits  withdrawal  purchases_partners  purchases  \\\n",
       "12462 -1.274840 -0.398746   -0.308336           -0.482216  -0.398531   \n",
       "11435  0.513694 -0.398746   -0.308336           -0.702543  -0.398531   \n",
       "14021 -0.643593 -0.398746   -0.308336           -0.702543  -0.398531   \n",
       "18149 -0.643593 -0.398746   -0.308336           -0.702543  -0.398531   \n",
       "12266  1.144941 -0.398746   -0.308336           -0.504248  -0.398531   \n",
       "...         ...       ...         ...                 ...        ...   \n",
       "8901  -0.222761  0.509259    0.563164            0.971944   0.527099   \n",
       "16499  1.039733 -0.398746   -0.308336            1.258369  -0.398531   \n",
       "13822 -0.222761 -0.398746   -0.308336            0.773649  -0.398531   \n",
       "6036  -1.380048 -0.398746   -0.308336           -0.702543  -0.398531   \n",
       "16011 -0.959217 -0.398746   -0.308336           -0.438150  -0.398531   \n",
       "\n",
       "       cc_taken  cc_recommended  cc_disliked  cc_liked  cc_application_begin  \\\n",
       "12462 -0.176586       -1.129542     -0.07931 -0.092623             -0.687260   \n",
       "11435  3.554290        1.668415      1.29687 -0.092623              1.215880   \n",
       "14021 -0.176586        0.365723     -0.07931 -0.092623             -0.458883   \n",
       "18149 -0.176586        0.252445     -0.07931 -0.092623             -0.458883   \n",
       "12266 -0.176586       -0.835020     -0.07931 -0.092623             -0.382758   \n",
       "...         ...             ...          ...       ...                   ...   \n",
       "8901  -0.176586        0.750867     -0.07931 -0.092623             -0.306632   \n",
       "16499 -0.176586        0.569622     -0.07931 -0.092623             -0.154381   \n",
       "13822 -0.176586        0.524311     -0.07931 -0.092623             -0.230506   \n",
       "6036  -0.176586        0.161823     -0.07931 -0.092623             -0.535009   \n",
       "16011 -0.176586       -0.857676     -0.07931 -0.092623             -0.763386   \n",
       "\n",
       "       ...  zodiac_sign_Cancer  zodiac_sign_Capricorn  zodiac_sign_Gemini  \\\n",
       "12462  ...           -0.321842              -0.161466           -0.296474   \n",
       "11435  ...           -0.321842              -0.161466           -0.296474   \n",
       "14021  ...           -0.321842              -0.161466           -0.296474   \n",
       "18149  ...           -0.321842              -0.161466           -0.296474   \n",
       "12266  ...           -0.321842              -0.161466           -0.296474   \n",
       "...    ...                 ...                    ...                 ...   \n",
       "8901   ...           -0.321842              -0.161466           -0.296474   \n",
       "16499  ...           -0.321842              -0.161466           -0.296474   \n",
       "13822  ...           -0.321842              -0.161466           -0.296474   \n",
       "6036   ...           -0.321842              -0.161466           -0.296474   \n",
       "16011  ...           -0.321842              -0.161466           -0.296474   \n",
       "\n",
       "       zodiac_sign_Leo  zodiac_sign_Libra  zodiac_sign_Pisces  \\\n",
       "12462        -0.313432           3.415551           -0.299185   \n",
       "11435        -0.313432          -0.292779           -0.299185   \n",
       "14021        -0.313432           3.415551           -0.299185   \n",
       "18149        -0.313432          -0.292779           -0.299185   \n",
       "12266        -0.313432          -0.292779           -0.299185   \n",
       "...                ...                ...                 ...   \n",
       "8901         -0.313432          -0.292779           -0.299185   \n",
       "16499        -0.313432          -0.292779           -0.299185   \n",
       "13822        -0.313432          -0.292779           -0.299185   \n",
       "6036         -0.313432          -0.292779            3.342410   \n",
       "16011        -0.313432          -0.292779           -0.299185   \n",
       "\n",
       "       zodiac_sign_Sagittarius  zodiac_sign_Scorpio  zodiac_sign_Taurus  \\\n",
       "12462                -0.278330            -0.288562           -0.299503   \n",
       "11435                -0.278330            -0.288562           -0.299503   \n",
       "14021                -0.278330            -0.288562           -0.299503   \n",
       "18149                -0.278330             3.465456           -0.299503   \n",
       "12266                -0.278330            -0.288562           -0.299503   \n",
       "...                        ...                  ...                 ...   \n",
       "8901                 -0.278330            -0.288562           -0.299503   \n",
       "16499                -0.278330            -0.288562           -0.299503   \n",
       "13822                -0.278330            -0.288562           -0.299503   \n",
       "6036                 -0.278330            -0.288562           -0.299503   \n",
       "16011                 3.592852            -0.288562           -0.299503   \n",
       "\n",
       "       zodiac_sign_Virgo  \n",
       "12462          -0.313432  \n",
       "11435          -0.313432  \n",
       "14021          -0.313432  \n",
       "18149          -0.313432  \n",
       "12266          -0.313432  \n",
       "...                  ...  \n",
       "8901            3.190488  \n",
       "16499           3.190488  \n",
       "13822          -0.313432  \n",
       "6036           -0.313432  \n",
       "16011          -0.313432  \n",
       "\n",
       "[12476 rows x 41 columns]"
      ]
     },
     "execution_count": 33,
     "metadata": {},
     "output_type": "execute_result"
    }
   ],
   "source": [
    "X_train"
   ]
  },
  {
   "cell_type": "markdown",
   "metadata": {},
   "source": [
    "# STEP #2 MODEL BUILDING"
   ]
  },
  {
   "cell_type": "code",
   "execution_count": 34,
   "metadata": {},
   "outputs": [
    {
     "data": {
      "text/html": [
       "<style>#sk-container-id-1 {color: black;background-color: white;}#sk-container-id-1 pre{padding: 0;}#sk-container-id-1 div.sk-toggleable {background-color: white;}#sk-container-id-1 label.sk-toggleable__label {cursor: pointer;display: block;width: 100%;margin-bottom: 0;padding: 0.3em;box-sizing: border-box;text-align: center;}#sk-container-id-1 label.sk-toggleable__label-arrow:before {content: \"▸\";float: left;margin-right: 0.25em;color: #696969;}#sk-container-id-1 label.sk-toggleable__label-arrow:hover:before {color: black;}#sk-container-id-1 div.sk-estimator:hover label.sk-toggleable__label-arrow:before {color: black;}#sk-container-id-1 div.sk-toggleable__content {max-height: 0;max-width: 0;overflow: hidden;text-align: left;background-color: #f0f8ff;}#sk-container-id-1 div.sk-toggleable__content pre {margin: 0.2em;color: black;border-radius: 0.25em;background-color: #f0f8ff;}#sk-container-id-1 input.sk-toggleable__control:checked~div.sk-toggleable__content {max-height: 200px;max-width: 100%;overflow: auto;}#sk-container-id-1 input.sk-toggleable__control:checked~label.sk-toggleable__label-arrow:before {content: \"▾\";}#sk-container-id-1 div.sk-estimator input.sk-toggleable__control:checked~label.sk-toggleable__label {background-color: #d4ebff;}#sk-container-id-1 div.sk-label input.sk-toggleable__control:checked~label.sk-toggleable__label {background-color: #d4ebff;}#sk-container-id-1 input.sk-hidden--visually {border: 0;clip: rect(1px 1px 1px 1px);clip: rect(1px, 1px, 1px, 1px);height: 1px;margin: -1px;overflow: hidden;padding: 0;position: absolute;width: 1px;}#sk-container-id-1 div.sk-estimator {font-family: monospace;background-color: #f0f8ff;border: 1px dotted black;border-radius: 0.25em;box-sizing: border-box;margin-bottom: 0.5em;}#sk-container-id-1 div.sk-estimator:hover {background-color: #d4ebff;}#sk-container-id-1 div.sk-parallel-item::after {content: \"\";width: 100%;border-bottom: 1px solid gray;flex-grow: 1;}#sk-container-id-1 div.sk-label:hover label.sk-toggleable__label {background-color: #d4ebff;}#sk-container-id-1 div.sk-serial::before {content: \"\";position: absolute;border-left: 1px solid gray;box-sizing: border-box;top: 0;bottom: 0;left: 50%;z-index: 0;}#sk-container-id-1 div.sk-serial {display: flex;flex-direction: column;align-items: center;background-color: white;padding-right: 0.2em;padding-left: 0.2em;position: relative;}#sk-container-id-1 div.sk-item {position: relative;z-index: 1;}#sk-container-id-1 div.sk-parallel {display: flex;align-items: stretch;justify-content: center;background-color: white;position: relative;}#sk-container-id-1 div.sk-item::before, #sk-container-id-1 div.sk-parallel-item::before {content: \"\";position: absolute;border-left: 1px solid gray;box-sizing: border-box;top: 0;bottom: 0;left: 50%;z-index: -1;}#sk-container-id-1 div.sk-parallel-item {display: flex;flex-direction: column;z-index: 1;position: relative;background-color: white;}#sk-container-id-1 div.sk-parallel-item:first-child::after {align-self: flex-end;width: 50%;}#sk-container-id-1 div.sk-parallel-item:last-child::after {align-self: flex-start;width: 50%;}#sk-container-id-1 div.sk-parallel-item:only-child::after {width: 0;}#sk-container-id-1 div.sk-dashed-wrapped {border: 1px dashed gray;margin: 0 0.4em 0.5em 0.4em;box-sizing: border-box;padding-bottom: 0.4em;background-color: white;}#sk-container-id-1 div.sk-label label {font-family: monospace;font-weight: bold;display: inline-block;line-height: 1.2em;}#sk-container-id-1 div.sk-label-container {text-align: center;}#sk-container-id-1 div.sk-container {/* jupyter's `normalize.less` sets `[hidden] { display: none; }` but bootstrap.min.css set `[hidden] { display: none !important; }` so we also need the `!important` here to be able to override the default hidden behavior on the sphinx rendered scikit-learn.org. See: https://github.com/scikit-learn/scikit-learn/issues/21755 */display: inline-block !important;position: relative;}#sk-container-id-1 div.sk-text-repr-fallback {display: none;}</style><div id=\"sk-container-id-1\" class=\"sk-top-container\"><div class=\"sk-text-repr-fallback\"><pre>LogisticRegression(random_state=0)</pre><b>In a Jupyter environment, please rerun this cell to show the HTML representation or trust the notebook. <br />On GitHub, the HTML representation is unable to render, please try loading this page with nbviewer.org.</b></div><div class=\"sk-container\" hidden><div class=\"sk-item\"><div class=\"sk-estimator sk-toggleable\"><input class=\"sk-toggleable__control sk-hidden--visually\" id=\"sk-estimator-id-1\" type=\"checkbox\" checked><label for=\"sk-estimator-id-1\" class=\"sk-toggleable__label sk-toggleable__label-arrow\">LogisticRegression</label><div class=\"sk-toggleable__content\"><pre>LogisticRegression(random_state=0)</pre></div></div></div></div></div>"
      ],
      "text/plain": [
       "LogisticRegression(random_state=0)"
      ]
     },
     "execution_count": 34,
     "metadata": {},
     "output_type": "execute_result"
    }
   ],
   "source": [
    "# Fitting Model to the Training Set\n",
    "from sklearn.linear_model import LogisticRegression\n",
    "classifier = LogisticRegression(random_state = 0)\n",
    "classifier.fit(X_train, y_train)"
   ]
  },
  {
   "cell_type": "code",
   "execution_count": 35,
   "metadata": {},
   "outputs": [],
   "source": [
    "# Predicting Test Set\n",
    "y_pred = classifier.predict(X_test)"
   ]
  },
  {
   "cell_type": "code",
   "execution_count": 36,
   "metadata": {},
   "outputs": [],
   "source": [
    "# Evaluating Results\n",
    "from sklearn.metrics import confusion_matrix, accuracy_score, f1_score, precision_score, recall_score"
   ]
  },
  {
   "cell_type": "code",
   "execution_count": 37,
   "metadata": {},
   "outputs": [
    {
     "data": {
      "text/plain": [
       "0.6353809649354073"
      ]
     },
     "execution_count": 37,
     "metadata": {},
     "output_type": "execute_result"
    }
   ],
   "source": [
    "cm = confusion_matrix(y_test, y_pred)\n",
    "accuracy_score(y_test, y_pred)"
   ]
  },
  {
   "cell_type": "code",
   "execution_count": 38,
   "metadata": {},
   "outputs": [
    {
     "data": {
      "text/plain": [
       "0.5421464762782128"
      ]
     },
     "execution_count": 38,
     "metadata": {},
     "output_type": "execute_result"
    }
   ],
   "source": [
    "precision_score(y_test, y_pred)"
   ]
  },
  {
   "cell_type": "code",
   "execution_count": 39,
   "metadata": {},
   "outputs": [
    {
     "data": {
      "text/plain": [
       "0.7515964240102171"
      ]
     },
     "execution_count": 39,
     "metadata": {},
     "output_type": "execute_result"
    }
   ],
   "source": [
    "recall_score(y_test, y_pred) "
   ]
  },
  {
   "cell_type": "code",
   "execution_count": 40,
   "metadata": {},
   "outputs": [
    {
     "data": {
      "text/plain": [
       "0.6299170457586298"
      ]
     },
     "execution_count": 40,
     "metadata": {},
     "output_type": "execute_result"
    }
   ],
   "source": [
    "f1_score(y_test, y_pred)"
   ]
  },
  {
   "cell_type": "code",
   "execution_count": 41,
   "metadata": {},
   "outputs": [
    {
     "name": "stdout",
     "output_type": "stream",
     "text": [
      "Test Data Accuracy: 0.6354\n"
     ]
    },
    {
     "data": {
      "image/png": "[encoded data removed]",
      "text/plain": [
       "<Figure size 1000x700 with 2 Axes>"
      ]
     },
     "metadata": {},
     "output_type": "display_data"
    }
   ],
   "source": [
    "df_cm = pd.DataFrame(cm, index = (0, 1), columns = (0, 1))\n",
    "plt.figure(figsize = (10,7))\n",
    "sn.set(font_scale=1.4)\n",
    "sn.heatmap(df_cm, annot=True, fmt='g')\n",
    "print(\"Test Data Accuracy: %0.4f\" % accuracy_score(y_test, y_pred))"
   ]
  },
  {
   "cell_type": "code",
   "execution_count": null,
   "metadata": {},
   "outputs": [],
   "source": []
  },
  {
   "cell_type": "code",
   "execution_count": null,
   "metadata": {},
   "outputs": [],
   "source": []
  }
 ],
 "metadata": {
  "kernelspec": {
   "display_name": "base",
   "language": "python",
   "name": "python3"
  },
  "language_info": {
   "codemirror_mode": {
    "name": "ipython",
    "version": 3
   },
   "file_extension": ".py",
   "mimetype": "text/x-python",
   "name": "python",
   "nbconvert_exporter": "python",
   "pygments_lexer": "ipython3",
   "version": "3.10.9"
  }
 },
 "nbformat": 4,
 "nbformat_minor": 2
}
