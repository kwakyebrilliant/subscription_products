{
 "cells": [
  {
   "cell_type": "markdown",
   "metadata": {},
   "source": [
    "# CASE STUDY: SUBSCRIPTION PRODUCTS\n",
    "# Brilliant"
   ]
  },
  {
   "cell_type": "markdown",
   "metadata": {},
   "source": [
    "# STEP #1 IMPORTING LIBRARIES AND DATA"
   ]
  },
  {
   "cell_type": "code",
   "execution_count": 47,
   "metadata": {},
   "outputs": [],
   "source": [
    "# Importing Libraries\n",
    "import pandas as pd\n",
    "import numpy as np\n",
    "import random\n",
    "import seaborn as sn\n",
    "import matplotlib.pyplot as plt"
   ]
  },
  {
   "cell_type": "code",
   "execution_count": 48,
   "metadata": {},
   "outputs": [],
   "source": [
    "# Importing Data\n",
    "dataset = pd.read_csv('data/new_churn_data.csv')"
   ]
  },
  {
   "cell_type": "markdown",
   "metadata": {},
   "source": [
    "## Data Preprocessing"
   ]
  },
  {
   "cell_type": "code",
   "execution_count": 49,
   "metadata": {},
   "outputs": [],
   "source": [
    "#Data preparation\n",
    "user_identifier = dataset['user']\n",
    "dataset = dataset.drop(columns = ['user'])"
   ]
  },
  {
   "cell_type": "markdown",
   "metadata": {},
   "source": [
    "## One Hot Encoding"
   ]
  },
  {
   "cell_type": "code",
   "execution_count": 50,
   "metadata": {},
   "outputs": [
    {
     "data": {
      "text/plain": [
       "R     9221\n",
       "na    7910\n",
       "O     1834\n",
       "Name: housing, dtype: int64"
      ]
     },
     "execution_count": 50,
     "metadata": {},
     "output_type": "execute_result"
    }
   ],
   "source": [
    "dataset.housing.value_counts()"
   ]
  },
  {
   "cell_type": "code",
   "execution_count": 51,
   "metadata": {},
   "outputs": [
    {
     "data": {
      "text/html": [
       "<div>\n",
       "<style scoped>\n",
       "    .dataframe tbody tr th:only-of-type {\n",
       "        vertical-align: middle;\n",
       "    }\n",
       "\n",
       "    .dataframe tbody tr th {\n",
       "        vertical-align: top;\n",
       "    }\n",
       "\n",
       "    .dataframe thead th {\n",
       "        text-align: right;\n",
       "    }\n",
       "</style>\n",
       "<table border=\"1\" class=\"dataframe\">\n",
       "  <thead>\n",
       "    <tr style=\"text-align: right;\">\n",
       "      <th></th>\n",
       "      <th>housing</th>\n",
       "      <th>churn</th>\n",
       "    </tr>\n",
       "  </thead>\n",
       "  <tbody>\n",
       "    <tr>\n",
       "      <th>0</th>\n",
       "      <td>O</td>\n",
       "      <td>2</td>\n",
       "    </tr>\n",
       "    <tr>\n",
       "      <th>1</th>\n",
       "      <td>R</td>\n",
       "      <td>2</td>\n",
       "    </tr>\n",
       "    <tr>\n",
       "      <th>2</th>\n",
       "      <td>na</td>\n",
       "      <td>2</td>\n",
       "    </tr>\n",
       "  </tbody>\n",
       "</table>\n",
       "</div>"
      ],
      "text/plain": [
       "  housing  churn\n",
       "0       O      2\n",
       "1       R      2\n",
       "2      na      2"
      ]
     },
     "execution_count": 51,
     "metadata": {},
     "output_type": "execute_result"
    }
   ],
   "source": [
    "dataset.groupby('housing')['churn'].nunique().reset_index()"
   ]
  },
  {
   "cell_type": "code",
   "execution_count": 52,
   "metadata": {},
   "outputs": [],
   "source": [
    "dataset = pd.get_dummies(dataset)"
   ]
  },
  {
   "cell_type": "code",
   "execution_count": 53,
   "metadata": {},
   "outputs": [
    {
     "data": {
      "text/plain": [
       "Index(['churn', 'age', 'deposits', 'withdrawal', 'purchases_partners',\n",
       "       'purchases', 'cc_taken', 'cc_recommended', 'cc_disliked', 'cc_liked',\n",
       "       'cc_application_begin', 'app_downloaded', 'web_user', 'ios_user',\n",
       "       'android_user', 'registered_phones', 'waiting_4_loan', 'cancelled_loan',\n",
       "       'received_loan', 'rejected_loan', 'left_for_two_month_plus',\n",
       "       'left_for_one_month', 'reward_rate', 'is_referred', 'housing_O',\n",
       "       'housing_R', 'housing_na', 'payment_type_Bi-Weekly',\n",
       "       'payment_type_Monthly', 'payment_type_Semi-Monthly',\n",
       "       'payment_type_Weekly', 'payment_type_na', 'zodiac_sign_Aquarius',\n",
       "       'zodiac_sign_Aries', 'zodiac_sign_Cancer', 'zodiac_sign_Capricorn',\n",
       "       'zodiac_sign_Gemini', 'zodiac_sign_Leo', 'zodiac_sign_Libra',\n",
       "       'zodiac_sign_Pisces', 'zodiac_sign_Sagittarius', 'zodiac_sign_Scorpio',\n",
       "       'zodiac_sign_Taurus', 'zodiac_sign_Virgo', 'zodiac_sign_na'],\n",
       "      dtype='object')"
      ]
     },
     "execution_count": 53,
     "metadata": {},
     "output_type": "execute_result"
    }
   ],
   "source": [
    "dataset.columns"
   ]
  },
  {
   "cell_type": "code",
   "execution_count": 54,
   "metadata": {},
   "outputs": [],
   "source": [
    "dataset = dataset.drop(columns = ['housing_na', 'zodiac_sign_na', 'payment_type_na'])"
   ]
  },
  {
   "cell_type": "code",
   "execution_count": 55,
   "metadata": {},
   "outputs": [],
   "source": [
    "# Splitting the dataset into the Training set and Test set\n",
    "from sklearn.model_selection import train_test_split\n",
    "X_train, X_test, y_train, y_test = train_test_split(dataset.drop(columns = 'churn'), dataset['churn'],\n",
    "                                                    test_size = 0.2,\n",
    "                                                    random_state = 0)"
   ]
  },
  {
   "cell_type": "code",
   "execution_count": 56,
   "metadata": {},
   "outputs": [
    {
     "data": {
      "text/plain": [
       "0    8934\n",
       "1    6238\n",
       "Name: churn, dtype: int64"
      ]
     },
     "execution_count": 56,
     "metadata": {},
     "output_type": "execute_result"
    }
   ],
   "source": [
    "# Balancing the Training Set\n",
    "y_train.value_counts()"
   ]
  },
  {
   "cell_type": "code",
   "execution_count": 57,
   "metadata": {},
   "outputs": [],
   "source": [
    "pos_index = y_train[y_train.values == 1].index\n",
    "neg_index = y_train[y_train.values == 0].index"
   ]
  },
  {
   "cell_type": "code",
   "execution_count": 58,
   "metadata": {},
   "outputs": [],
   "source": [
    "if len(pos_index) > len(neg_index):\n",
    "    higher = pos_index\n",
    "    lower = neg_index\n",
    "else:\n",
    "    higher = neg_index\n",
    "    lower = pos_index"
   ]
  },
  {
   "cell_type": "code",
   "execution_count": 59,
   "metadata": {},
   "outputs": [],
   "source": [
    "random.seed(0)\n",
    "higher = np.random.choice(higher, size=len(lower))\n",
    "lower = np.asarray(lower)\n",
    "new_indexes = np.concatenate((lower, higher))"
   ]
  },
  {
   "cell_type": "code",
   "execution_count": 60,
   "metadata": {},
   "outputs": [],
   "source": [
    "X_train = X_train.loc[new_indexes,]\n",
    "y_train = y_train[new_indexes]"
   ]
  },
  {
   "cell_type": "code",
   "execution_count": 61,
   "metadata": {},
   "outputs": [],
   "source": [
    "# Feature Scaling\n",
    "from sklearn.preprocessing import StandardScaler\n",
    "sc_X = StandardScaler()"
   ]
  },
  {
   "cell_type": "code",
   "execution_count": 62,
   "metadata": {},
   "outputs": [],
   "source": [
    "X_train2 = pd.DataFrame(sc_X.fit_transform(X_train))\n",
    "X_test2 = pd.DataFrame(sc_X.transform(X_test))"
   ]
  },
  {
   "cell_type": "code",
   "execution_count": 63,
   "metadata": {},
   "outputs": [],
   "source": [
    "X_train2.columns = X_train.columns.values\n",
    "X_test2.columns = X_test.columns.values"
   ]
  },
  {
   "cell_type": "code",
   "execution_count": 64,
   "metadata": {},
   "outputs": [],
   "source": [
    "X_train2.index = X_train.index.values\n",
    "X_test2.index = X_test.index.values"
   ]
  },
  {
   "cell_type": "code",
   "execution_count": 65,
   "metadata": {},
   "outputs": [],
   "source": [
    "X_train = X_train2\n",
    "X_test = X_test2"
   ]
  },
  {
   "cell_type": "code",
   "execution_count": 66,
   "metadata": {},
   "outputs": [
    {
     "data": {
      "text/html": [
       "<div>\n",
       "<style scoped>\n",
       "    .dataframe tbody tr th:only-of-type {\n",
       "        vertical-align: middle;\n",
       "    }\n",
       "\n",
       "    .dataframe tbody tr th {\n",
       "        vertical-align: top;\n",
       "    }\n",
       "\n",
       "    .dataframe thead th {\n",
       "        text-align: right;\n",
       "    }\n",
       "</style>\n",
       "<table border=\"1\" class=\"dataframe\">\n",
       "  <thead>\n",
       "    <tr style=\"text-align: right;\">\n",
       "      <th></th>\n",
       "      <th>age</th>\n",
       "      <th>deposits</th>\n",
       "      <th>withdrawal</th>\n",
       "      <th>purchases_partners</th>\n",
       "      <th>purchases</th>\n",
       "      <th>cc_taken</th>\n",
       "      <th>cc_recommended</th>\n",
       "      <th>cc_disliked</th>\n",
       "      <th>cc_liked</th>\n",
       "      <th>cc_application_begin</th>\n",
       "      <th>...</th>\n",
       "      <th>zodiac_sign_Cancer</th>\n",
       "      <th>zodiac_sign_Capricorn</th>\n",
       "      <th>zodiac_sign_Gemini</th>\n",
       "      <th>zodiac_sign_Leo</th>\n",
       "      <th>zodiac_sign_Libra</th>\n",
       "      <th>zodiac_sign_Pisces</th>\n",
       "      <th>zodiac_sign_Sagittarius</th>\n",
       "      <th>zodiac_sign_Scorpio</th>\n",
       "      <th>zodiac_sign_Taurus</th>\n",
       "      <th>zodiac_sign_Virgo</th>\n",
       "    </tr>\n",
       "  </thead>\n",
       "  <tbody>\n",
       "    <tr>\n",
       "      <th>12462</th>\n",
       "      <td>-1.274974</td>\n",
       "      <td>-0.408111</td>\n",
       "      <td>-0.323655</td>\n",
       "      <td>-0.490975</td>\n",
       "      <td>-0.408200</td>\n",
       "      <td>-0.184885</td>\n",
       "      <td>-1.131557</td>\n",
       "      <td>-0.076875</td>\n",
       "      <td>-0.098748</td>\n",
       "      <td>-0.698915</td>\n",
       "      <td>...</td>\n",
       "      <td>-0.325771</td>\n",
       "      <td>-0.160680</td>\n",
       "      <td>-0.295513</td>\n",
       "      <td>-0.3162</td>\n",
       "      <td>3.475280</td>\n",
       "      <td>-0.292294</td>\n",
       "      <td>-0.282322</td>\n",
       "      <td>-0.296154</td>\n",
       "      <td>-0.295513</td>\n",
       "      <td>-0.316966</td>\n",
       "    </tr>\n",
       "    <tr>\n",
       "      <th>11435</th>\n",
       "      <td>0.492423</td>\n",
       "      <td>-0.408111</td>\n",
       "      <td>-0.323655</td>\n",
       "      <td>-0.711682</td>\n",
       "      <td>-0.408200</td>\n",
       "      <td>3.615162</td>\n",
       "      <td>1.633662</td>\n",
       "      <td>1.251502</td>\n",
       "      <td>-0.098748</td>\n",
       "      <td>1.212789</td>\n",
       "      <td>...</td>\n",
       "      <td>-0.325771</td>\n",
       "      <td>-0.160680</td>\n",
       "      <td>-0.295513</td>\n",
       "      <td>-0.3162</td>\n",
       "      <td>-0.287747</td>\n",
       "      <td>-0.292294</td>\n",
       "      <td>-0.282322</td>\n",
       "      <td>-0.296154</td>\n",
       "      <td>-0.295513</td>\n",
       "      <td>-0.316966</td>\n",
       "    </tr>\n",
       "    <tr>\n",
       "      <th>14021</th>\n",
       "      <td>-0.651187</td>\n",
       "      <td>-0.408111</td>\n",
       "      <td>-0.323655</td>\n",
       "      <td>-0.711682</td>\n",
       "      <td>-0.408200</td>\n",
       "      <td>-0.184885</td>\n",
       "      <td>0.346212</td>\n",
       "      <td>-0.076875</td>\n",
       "      <td>-0.098748</td>\n",
       "      <td>-0.469511</td>\n",
       "      <td>...</td>\n",
       "      <td>-0.325771</td>\n",
       "      <td>-0.160680</td>\n",
       "      <td>-0.295513</td>\n",
       "      <td>-0.3162</td>\n",
       "      <td>3.475280</td>\n",
       "      <td>-0.292294</td>\n",
       "      <td>-0.282322</td>\n",
       "      <td>-0.296154</td>\n",
       "      <td>-0.295513</td>\n",
       "      <td>-0.316966</td>\n",
       "    </tr>\n",
       "    <tr>\n",
       "      <th>18149</th>\n",
       "      <td>-0.651187</td>\n",
       "      <td>-0.408111</td>\n",
       "      <td>-0.323655</td>\n",
       "      <td>-0.711682</td>\n",
       "      <td>-0.408200</td>\n",
       "      <td>-0.184885</td>\n",
       "      <td>0.234260</td>\n",
       "      <td>-0.076875</td>\n",
       "      <td>-0.098748</td>\n",
       "      <td>-0.469511</td>\n",
       "      <td>...</td>\n",
       "      <td>-0.325771</td>\n",
       "      <td>-0.160680</td>\n",
       "      <td>-0.295513</td>\n",
       "      <td>-0.3162</td>\n",
       "      <td>-0.287747</td>\n",
       "      <td>-0.292294</td>\n",
       "      <td>-0.282322</td>\n",
       "      <td>3.376624</td>\n",
       "      <td>-0.295513</td>\n",
       "      <td>-0.316966</td>\n",
       "    </tr>\n",
       "    <tr>\n",
       "      <th>12266</th>\n",
       "      <td>1.116210</td>\n",
       "      <td>-0.408111</td>\n",
       "      <td>-0.323655</td>\n",
       "      <td>-0.513045</td>\n",
       "      <td>-0.408200</td>\n",
       "      <td>-0.184885</td>\n",
       "      <td>-0.840481</td>\n",
       "      <td>-0.076875</td>\n",
       "      <td>-0.098748</td>\n",
       "      <td>-0.393042</td>\n",
       "      <td>...</td>\n",
       "      <td>-0.325771</td>\n",
       "      <td>-0.160680</td>\n",
       "      <td>-0.295513</td>\n",
       "      <td>-0.3162</td>\n",
       "      <td>-0.287747</td>\n",
       "      <td>-0.292294</td>\n",
       "      <td>-0.282322</td>\n",
       "      <td>-0.296154</td>\n",
       "      <td>-0.295513</td>\n",
       "      <td>-0.316966</td>\n",
       "    </tr>\n",
       "    <tr>\n",
       "      <th>...</th>\n",
       "      <td>...</td>\n",
       "      <td>...</td>\n",
       "      <td>...</td>\n",
       "      <td>...</td>\n",
       "      <td>...</td>\n",
       "      <td>...</td>\n",
       "      <td>...</td>\n",
       "      <td>...</td>\n",
       "      <td>...</td>\n",
       "      <td>...</td>\n",
       "      <td>...</td>\n",
       "      <td>...</td>\n",
       "      <td>...</td>\n",
       "      <td>...</td>\n",
       "      <td>...</td>\n",
       "      <td>...</td>\n",
       "      <td>...</td>\n",
       "      <td>...</td>\n",
       "      <td>...</td>\n",
       "      <td>...</td>\n",
       "      <td>...</td>\n",
       "    </tr>\n",
       "    <tr>\n",
       "      <th>1691</th>\n",
       "      <td>-0.235329</td>\n",
       "      <td>5.232936</td>\n",
       "      <td>0.534198</td>\n",
       "      <td>0.899481</td>\n",
       "      <td>5.356098</td>\n",
       "      <td>-0.184885</td>\n",
       "      <td>1.779199</td>\n",
       "      <td>-0.076875</td>\n",
       "      <td>-0.098748</td>\n",
       "      <td>1.901002</td>\n",
       "      <td>...</td>\n",
       "      <td>-0.325771</td>\n",
       "      <td>6.223543</td>\n",
       "      <td>-0.295513</td>\n",
       "      <td>-0.3162</td>\n",
       "      <td>-0.287747</td>\n",
       "      <td>-0.292294</td>\n",
       "      <td>-0.282322</td>\n",
       "      <td>-0.296154</td>\n",
       "      <td>-0.295513</td>\n",
       "      <td>-0.316966</td>\n",
       "    </tr>\n",
       "    <tr>\n",
       "      <th>3200</th>\n",
       "      <td>-0.339293</td>\n",
       "      <td>-0.408111</td>\n",
       "      <td>-0.323655</td>\n",
       "      <td>-0.270267</td>\n",
       "      <td>-0.408200</td>\n",
       "      <td>-0.184885</td>\n",
       "      <td>-0.650162</td>\n",
       "      <td>-0.076875</td>\n",
       "      <td>-0.098748</td>\n",
       "      <td>-0.316574</td>\n",
       "      <td>...</td>\n",
       "      <td>-0.325771</td>\n",
       "      <td>-0.160680</td>\n",
       "      <td>-0.295513</td>\n",
       "      <td>-0.3162</td>\n",
       "      <td>-0.287747</td>\n",
       "      <td>3.421211</td>\n",
       "      <td>-0.282322</td>\n",
       "      <td>-0.296154</td>\n",
       "      <td>-0.295513</td>\n",
       "      <td>-0.316966</td>\n",
       "    </tr>\n",
       "    <tr>\n",
       "      <th>9842</th>\n",
       "      <td>1.428104</td>\n",
       "      <td>-0.111213</td>\n",
       "      <td>2.249904</td>\n",
       "      <td>-0.557187</td>\n",
       "      <td>-0.104816</td>\n",
       "      <td>-0.184885</td>\n",
       "      <td>-1.176338</td>\n",
       "      <td>-0.076875</td>\n",
       "      <td>-0.098748</td>\n",
       "      <td>-0.698915</td>\n",
       "      <td>...</td>\n",
       "      <td>-0.325771</td>\n",
       "      <td>-0.160680</td>\n",
       "      <td>-0.295513</td>\n",
       "      <td>-0.3162</td>\n",
       "      <td>-0.287747</td>\n",
       "      <td>3.421211</td>\n",
       "      <td>-0.282322</td>\n",
       "      <td>-0.296154</td>\n",
       "      <td>-0.295513</td>\n",
       "      <td>-0.316966</td>\n",
       "    </tr>\n",
       "    <tr>\n",
       "      <th>13669</th>\n",
       "      <td>-1.171009</td>\n",
       "      <td>-0.408111</td>\n",
       "      <td>-0.323655</td>\n",
       "      <td>-0.027489</td>\n",
       "      <td>-0.408200</td>\n",
       "      <td>-0.184885</td>\n",
       "      <td>-0.515820</td>\n",
       "      <td>-0.076875</td>\n",
       "      <td>-0.098748</td>\n",
       "      <td>-0.545979</td>\n",
       "      <td>...</td>\n",
       "      <td>-0.325771</td>\n",
       "      <td>-0.160680</td>\n",
       "      <td>-0.295513</td>\n",
       "      <td>-0.3162</td>\n",
       "      <td>-0.287747</td>\n",
       "      <td>-0.292294</td>\n",
       "      <td>-0.282322</td>\n",
       "      <td>3.376624</td>\n",
       "      <td>-0.295513</td>\n",
       "      <td>-0.316966</td>\n",
       "    </tr>\n",
       "    <tr>\n",
       "      <th>12407</th>\n",
       "      <td>-0.027399</td>\n",
       "      <td>-0.408111</td>\n",
       "      <td>-0.323655</td>\n",
       "      <td>-0.711682</td>\n",
       "      <td>-0.408200</td>\n",
       "      <td>-0.184885</td>\n",
       "      <td>1.017925</td>\n",
       "      <td>-0.076875</td>\n",
       "      <td>-0.098748</td>\n",
       "      <td>-0.545979</td>\n",
       "      <td>...</td>\n",
       "      <td>-0.325771</td>\n",
       "      <td>-0.160680</td>\n",
       "      <td>-0.295513</td>\n",
       "      <td>-0.3162</td>\n",
       "      <td>-0.287747</td>\n",
       "      <td>-0.292294</td>\n",
       "      <td>-0.282322</td>\n",
       "      <td>-0.296154</td>\n",
       "      <td>-0.295513</td>\n",
       "      <td>-0.316966</td>\n",
       "    </tr>\n",
       "  </tbody>\n",
       "</table>\n",
       "<p>12476 rows × 41 columns</p>\n",
       "</div>"
      ],
      "text/plain": [
       "            age  deposits  withdrawal  purchases_partners  purchases  \\\n",
       "12462 -1.274974 -0.408111   -0.323655           -0.490975  -0.408200   \n",
       "11435  0.492423 -0.408111   -0.323655           -0.711682  -0.408200   \n",
       "14021 -0.651187 -0.408111   -0.323655           -0.711682  -0.408200   \n",
       "18149 -0.651187 -0.408111   -0.323655           -0.711682  -0.408200   \n",
       "12266  1.116210 -0.408111   -0.323655           -0.513045  -0.408200   \n",
       "...         ...       ...         ...                 ...        ...   \n",
       "1691  -0.235329  5.232936    0.534198            0.899481   5.356098   \n",
       "3200  -0.339293 -0.408111   -0.323655           -0.270267  -0.408200   \n",
       "9842   1.428104 -0.111213    2.249904           -0.557187  -0.104816   \n",
       "13669 -1.171009 -0.408111   -0.323655           -0.027489  -0.408200   \n",
       "12407 -0.027399 -0.408111   -0.323655           -0.711682  -0.408200   \n",
       "\n",
       "       cc_taken  cc_recommended  cc_disliked  cc_liked  cc_application_begin  \\\n",
       "12462 -0.184885       -1.131557    -0.076875 -0.098748             -0.698915   \n",
       "11435  3.615162        1.633662     1.251502 -0.098748              1.212789   \n",
       "14021 -0.184885        0.346212    -0.076875 -0.098748             -0.469511   \n",
       "18149 -0.184885        0.234260    -0.076875 -0.098748             -0.469511   \n",
       "12266 -0.184885       -0.840481    -0.076875 -0.098748             -0.393042   \n",
       "...         ...             ...          ...       ...                   ...   \n",
       "1691  -0.184885        1.779199    -0.076875 -0.098748              1.901002   \n",
       "3200  -0.184885       -0.650162    -0.076875 -0.098748             -0.316574   \n",
       "9842  -0.184885       -1.176338    -0.076875 -0.098748             -0.698915   \n",
       "13669 -0.184885       -0.515820    -0.076875 -0.098748             -0.545979   \n",
       "12407 -0.184885        1.017925    -0.076875 -0.098748             -0.545979   \n",
       "\n",
       "       ...  zodiac_sign_Cancer  zodiac_sign_Capricorn  zodiac_sign_Gemini  \\\n",
       "12462  ...           -0.325771              -0.160680           -0.295513   \n",
       "11435  ...           -0.325771              -0.160680           -0.295513   \n",
       "14021  ...           -0.325771              -0.160680           -0.295513   \n",
       "18149  ...           -0.325771              -0.160680           -0.295513   \n",
       "12266  ...           -0.325771              -0.160680           -0.295513   \n",
       "...    ...                 ...                    ...                 ...   \n",
       "1691   ...           -0.325771               6.223543           -0.295513   \n",
       "3200   ...           -0.325771              -0.160680           -0.295513   \n",
       "9842   ...           -0.325771              -0.160680           -0.295513   \n",
       "13669  ...           -0.325771              -0.160680           -0.295513   \n",
       "12407  ...           -0.325771              -0.160680           -0.295513   \n",
       "\n",
       "       zodiac_sign_Leo  zodiac_sign_Libra  zodiac_sign_Pisces  \\\n",
       "12462          -0.3162           3.475280           -0.292294   \n",
       "11435          -0.3162          -0.287747           -0.292294   \n",
       "14021          -0.3162           3.475280           -0.292294   \n",
       "18149          -0.3162          -0.287747           -0.292294   \n",
       "12266          -0.3162          -0.287747           -0.292294   \n",
       "...                ...                ...                 ...   \n",
       "1691           -0.3162          -0.287747           -0.292294   \n",
       "3200           -0.3162          -0.287747            3.421211   \n",
       "9842           -0.3162          -0.287747            3.421211   \n",
       "13669          -0.3162          -0.287747           -0.292294   \n",
       "12407          -0.3162          -0.287747           -0.292294   \n",
       "\n",
       "       zodiac_sign_Sagittarius  zodiac_sign_Scorpio  zodiac_sign_Taurus  \\\n",
       "12462                -0.282322            -0.296154           -0.295513   \n",
       "11435                -0.282322            -0.296154           -0.295513   \n",
       "14021                -0.282322            -0.296154           -0.295513   \n",
       "18149                -0.282322             3.376624           -0.295513   \n",
       "12266                -0.282322            -0.296154           -0.295513   \n",
       "...                        ...                  ...                 ...   \n",
       "1691                 -0.282322            -0.296154           -0.295513   \n",
       "3200                 -0.282322            -0.296154           -0.295513   \n",
       "9842                 -0.282322            -0.296154           -0.295513   \n",
       "13669                -0.282322             3.376624           -0.295513   \n",
       "12407                -0.282322            -0.296154           -0.295513   \n",
       "\n",
       "       zodiac_sign_Virgo  \n",
       "12462          -0.316966  \n",
       "11435          -0.316966  \n",
       "14021          -0.316966  \n",
       "18149          -0.316966  \n",
       "12266          -0.316966  \n",
       "...                  ...  \n",
       "1691           -0.316966  \n",
       "3200           -0.316966  \n",
       "9842           -0.316966  \n",
       "13669          -0.316966  \n",
       "12407          -0.316966  \n",
       "\n",
       "[12476 rows x 41 columns]"
      ]
     },
     "execution_count": 66,
     "metadata": {},
     "output_type": "execute_result"
    }
   ],
   "source": [
    "X_train"
   ]
  },
  {
   "cell_type": "markdown",
   "metadata": {},
   "source": [
    "# STEP #2 MODEL BUILDING"
   ]
  },
  {
   "cell_type": "code",
   "execution_count": 67,
   "metadata": {},
   "outputs": [
    {
     "data": {
      "text/html": [
       "<style>#sk-container-id-2 {color: black;background-color: white;}#sk-container-id-2 pre{padding: 0;}#sk-container-id-2 div.sk-toggleable {background-color: white;}#sk-container-id-2 label.sk-toggleable__label {cursor: pointer;display: block;width: 100%;margin-bottom: 0;padding: 0.3em;box-sizing: border-box;text-align: center;}#sk-container-id-2 label.sk-toggleable__label-arrow:before {content: \"▸\";float: left;margin-right: 0.25em;color: #696969;}#sk-container-id-2 label.sk-toggleable__label-arrow:hover:before {color: black;}#sk-container-id-2 div.sk-estimator:hover label.sk-toggleable__label-arrow:before {color: black;}#sk-container-id-2 div.sk-toggleable__content {max-height: 0;max-width: 0;overflow: hidden;text-align: left;background-color: #f0f8ff;}#sk-container-id-2 div.sk-toggleable__content pre {margin: 0.2em;color: black;border-radius: 0.25em;background-color: #f0f8ff;}#sk-container-id-2 input.sk-toggleable__control:checked~div.sk-toggleable__content {max-height: 200px;max-width: 100%;overflow: auto;}#sk-container-id-2 input.sk-toggleable__control:checked~label.sk-toggleable__label-arrow:before {content: \"▾\";}#sk-container-id-2 div.sk-estimator input.sk-toggleable__control:checked~label.sk-toggleable__label {background-color: #d4ebff;}#sk-container-id-2 div.sk-label input.sk-toggleable__control:checked~label.sk-toggleable__label {background-color: #d4ebff;}#sk-container-id-2 input.sk-hidden--visually {border: 0;clip: rect(1px 1px 1px 1px);clip: rect(1px, 1px, 1px, 1px);height: 1px;margin: -1px;overflow: hidden;padding: 0;position: absolute;width: 1px;}#sk-container-id-2 div.sk-estimator {font-family: monospace;background-color: #f0f8ff;border: 1px dotted black;border-radius: 0.25em;box-sizing: border-box;margin-bottom: 0.5em;}#sk-container-id-2 div.sk-estimator:hover {background-color: #d4ebff;}#sk-container-id-2 div.sk-parallel-item::after {content: \"\";width: 100%;border-bottom: 1px solid gray;flex-grow: 1;}#sk-container-id-2 div.sk-label:hover label.sk-toggleable__label {background-color: #d4ebff;}#sk-container-id-2 div.sk-serial::before {content: \"\";position: absolute;border-left: 1px solid gray;box-sizing: border-box;top: 0;bottom: 0;left: 50%;z-index: 0;}#sk-container-id-2 div.sk-serial {display: flex;flex-direction: column;align-items: center;background-color: white;padding-right: 0.2em;padding-left: 0.2em;position: relative;}#sk-container-id-2 div.sk-item {position: relative;z-index: 1;}#sk-container-id-2 div.sk-parallel {display: flex;align-items: stretch;justify-content: center;background-color: white;position: relative;}#sk-container-id-2 div.sk-item::before, #sk-container-id-2 div.sk-parallel-item::before {content: \"\";position: absolute;border-left: 1px solid gray;box-sizing: border-box;top: 0;bottom: 0;left: 50%;z-index: -1;}#sk-container-id-2 div.sk-parallel-item {display: flex;flex-direction: column;z-index: 1;position: relative;background-color: white;}#sk-container-id-2 div.sk-parallel-item:first-child::after {align-self: flex-end;width: 50%;}#sk-container-id-2 div.sk-parallel-item:last-child::after {align-self: flex-start;width: 50%;}#sk-container-id-2 div.sk-parallel-item:only-child::after {width: 0;}#sk-container-id-2 div.sk-dashed-wrapped {border: 1px dashed gray;margin: 0 0.4em 0.5em 0.4em;box-sizing: border-box;padding-bottom: 0.4em;background-color: white;}#sk-container-id-2 div.sk-label label {font-family: monospace;font-weight: bold;display: inline-block;line-height: 1.2em;}#sk-container-id-2 div.sk-label-container {text-align: center;}#sk-container-id-2 div.sk-container {/* jupyter's `normalize.less` sets `[hidden] { display: none; }` but bootstrap.min.css set `[hidden] { display: none !important; }` so we also need the `!important` here to be able to override the default hidden behavior on the sphinx rendered scikit-learn.org. See: https://github.com/scikit-learn/scikit-learn/issues/21755 */display: inline-block !important;position: relative;}#sk-container-id-2 div.sk-text-repr-fallback {display: none;}</style><div id=\"sk-container-id-2\" class=\"sk-top-container\"><div class=\"sk-text-repr-fallback\"><pre>LogisticRegression(random_state=0)</pre><b>In a Jupyter environment, please rerun this cell to show the HTML representation or trust the notebook. <br />On GitHub, the HTML representation is unable to render, please try loading this page with nbviewer.org.</b></div><div class=\"sk-container\" hidden><div class=\"sk-item\"><div class=\"sk-estimator sk-toggleable\"><input class=\"sk-toggleable__control sk-hidden--visually\" id=\"sk-estimator-id-2\" type=\"checkbox\" checked><label for=\"sk-estimator-id-2\" class=\"sk-toggleable__label sk-toggleable__label-arrow\">LogisticRegression</label><div class=\"sk-toggleable__content\"><pre>LogisticRegression(random_state=0)</pre></div></div></div></div></div>"
      ],
      "text/plain": [
       "LogisticRegression(random_state=0)"
      ]
     },
     "execution_count": 67,
     "metadata": {},
     "output_type": "execute_result"
    }
   ],
   "source": [
    "# Fitting Model to the Training Set\n",
    "from sklearn.linear_model import LogisticRegression\n",
    "classifier = LogisticRegression(random_state = 0)\n",
    "classifier.fit(X_train, y_train)"
   ]
  },
  {
   "cell_type": "code",
   "execution_count": 68,
   "metadata": {},
   "outputs": [],
   "source": [
    "# Predicting Test Set\n",
    "y_pred = classifier.predict(X_test)"
   ]
  },
  {
   "cell_type": "code",
   "execution_count": 69,
   "metadata": {},
   "outputs": [],
   "source": [
    "# Evaluating Results\n",
    "from sklearn.metrics import confusion_matrix, accuracy_score, f1_score, precision_score, recall_score"
   ]
  },
  {
   "cell_type": "code",
   "execution_count": 70,
   "metadata": {},
   "outputs": [
    {
     "data": {
      "text/plain": [
       "0.6361718955971527"
      ]
     },
     "execution_count": 70,
     "metadata": {},
     "output_type": "execute_result"
    }
   ],
   "source": [
    "cm = confusion_matrix(y_test, y_pred)\n",
    "accuracy_score(y_test, y_pred)"
   ]
  },
  {
   "cell_type": "code",
   "execution_count": 71,
   "metadata": {},
   "outputs": [
    {
     "data": {
      "text/plain": [
       "0.5420054200542005"
      ]
     },
     "execution_count": 71,
     "metadata": {},
     "output_type": "execute_result"
    }
   ],
   "source": [
    "precision_score(y_test, y_pred)"
   ]
  },
  {
   "cell_type": "code",
   "execution_count": 72,
   "metadata": {},
   "outputs": [
    {
     "data": {
      "text/plain": [
       "0.7662835249042146"
      ]
     },
     "execution_count": 72,
     "metadata": {},
     "output_type": "execute_result"
    }
   ],
   "source": [
    "recall_score(y_test, y_pred) "
   ]
  },
  {
   "cell_type": "code",
   "execution_count": 73,
   "metadata": {},
   "outputs": [
    {
     "data": {
      "text/plain": [
       "0.6349206349206348"
      ]
     },
     "execution_count": 73,
     "metadata": {},
     "output_type": "execute_result"
    }
   ],
   "source": [
    "f1_score(y_test, y_pred)"
   ]
  },
  {
   "cell_type": "code",
   "execution_count": 74,
   "metadata": {},
   "outputs": [
    {
     "name": "stdout",
     "output_type": "stream",
     "text": [
      "Test Data Accuracy: 0.6362\n"
     ]
    },
    {
     "data": {
      "image/png": "[encoded data removed]",
      "text/plain": [
       "<Figure size 1000x700 with 2 Axes>"
      ]
     },
     "metadata": {},
     "output_type": "display_data"
    }
   ],
   "source": [
    "df_cm = pd.DataFrame(cm, index = (0, 1), columns = (0, 1))\n",
    "plt.figure(figsize = (10,7))\n",
    "sn.set(font_scale=1.4)\n",
    "sn.heatmap(df_cm, annot=True, fmt='g')\n",
    "print(\"Test Data Accuracy: %0.4f\" % accuracy_score(y_test, y_pred))"
   ]
  },
  {
   "cell_type": "code",
   "execution_count": 75,
   "metadata": {},
   "outputs": [
    {
     "name": "stdout",
     "output_type": "stream",
     "text": [
      "SVM Accuracy: 0.663 (+/- 0.025)\n"
     ]
    }
   ],
   "source": [
    "# Applying k-Fold Cross Validation\n",
    "from sklearn.model_selection import cross_val_score\n",
    "accuracies = cross_val_score(estimator = classifier, X = X_train, y = y_train, cv = 10)\n",
    "print(\"SVM Accuracy: %0.3f (+/- %0.3f)\" % (accuracies.mean(), accuracies.std() * 2))"
   ]
  },
  {
   "cell_type": "code",
   "execution_count": 76,
   "metadata": {},
   "outputs": [
    {
     "data": {
      "text/html": [
       "<div>\n",
       "<style scoped>\n",
       "    .dataframe tbody tr th:only-of-type {\n",
       "        vertical-align: middle;\n",
       "    }\n",
       "\n",
       "    .dataframe tbody tr th {\n",
       "        vertical-align: top;\n",
       "    }\n",
       "\n",
       "    .dataframe thead th {\n",
       "        text-align: right;\n",
       "    }\n",
       "</style>\n",
       "<table border=\"1\" class=\"dataframe\">\n",
       "  <thead>\n",
       "    <tr style=\"text-align: right;\">\n",
       "      <th></th>\n",
       "      <th>features</th>\n",
       "      <th>coef</th>\n",
       "    </tr>\n",
       "  </thead>\n",
       "  <tbody>\n",
       "    <tr>\n",
       "      <th>0</th>\n",
       "      <td>age</td>\n",
       "      <td>-0.201519</td>\n",
       "    </tr>\n",
       "    <tr>\n",
       "      <th>1</th>\n",
       "      <td>deposits</td>\n",
       "      <td>0.063263</td>\n",
       "    </tr>\n",
       "    <tr>\n",
       "      <th>2</th>\n",
       "      <td>withdrawal</td>\n",
       "      <td>0.034039</td>\n",
       "    </tr>\n",
       "    <tr>\n",
       "      <th>3</th>\n",
       "      <td>purchases_partners</td>\n",
       "      <td>-0.774072</td>\n",
       "    </tr>\n",
       "    <tr>\n",
       "      <th>4</th>\n",
       "      <td>purchases</td>\n",
       "      <td>-0.219370</td>\n",
       "    </tr>\n",
       "    <tr>\n",
       "      <th>5</th>\n",
       "      <td>cc_taken</td>\n",
       "      <td>0.055559</td>\n",
       "    </tr>\n",
       "    <tr>\n",
       "      <th>6</th>\n",
       "      <td>cc_recommended</td>\n",
       "      <td>-0.033299</td>\n",
       "    </tr>\n",
       "    <tr>\n",
       "      <th>7</th>\n",
       "      <td>cc_disliked</td>\n",
       "      <td>0.007185</td>\n",
       "    </tr>\n",
       "    <tr>\n",
       "      <th>8</th>\n",
       "      <td>cc_liked</td>\n",
       "      <td>0.008380</td>\n",
       "    </tr>\n",
       "    <tr>\n",
       "      <th>9</th>\n",
       "      <td>cc_application_begin</td>\n",
       "      <td>0.051029</td>\n",
       "    </tr>\n",
       "    <tr>\n",
       "      <th>10</th>\n",
       "      <td>app_downloaded</td>\n",
       "      <td>-0.069418</td>\n",
       "    </tr>\n",
       "    <tr>\n",
       "      <th>11</th>\n",
       "      <td>web_user</td>\n",
       "      <td>0.127557</td>\n",
       "    </tr>\n",
       "    <tr>\n",
       "      <th>12</th>\n",
       "      <td>ios_user</td>\n",
       "      <td>0.171948</td>\n",
       "    </tr>\n",
       "    <tr>\n",
       "      <th>13</th>\n",
       "      <td>android_user</td>\n",
       "      <td>0.094053</td>\n",
       "    </tr>\n",
       "    <tr>\n",
       "      <th>14</th>\n",
       "      <td>registered_phones</td>\n",
       "      <td>0.069894</td>\n",
       "    </tr>\n",
       "    <tr>\n",
       "      <th>15</th>\n",
       "      <td>waiting_4_loan</td>\n",
       "      <td>-0.026179</td>\n",
       "    </tr>\n",
       "    <tr>\n",
       "      <th>16</th>\n",
       "      <td>cancelled_loan</td>\n",
       "      <td>0.064224</td>\n",
       "    </tr>\n",
       "    <tr>\n",
       "      <th>17</th>\n",
       "      <td>received_loan</td>\n",
       "      <td>0.122553</td>\n",
       "    </tr>\n",
       "    <tr>\n",
       "      <th>18</th>\n",
       "      <td>rejected_loan</td>\n",
       "      <td>0.107955</td>\n",
       "    </tr>\n",
       "    <tr>\n",
       "      <th>19</th>\n",
       "      <td>left_for_two_month_plus</td>\n",
       "      <td>-0.001896</td>\n",
       "    </tr>\n",
       "    <tr>\n",
       "      <th>20</th>\n",
       "      <td>left_for_one_month</td>\n",
       "      <td>0.059368</td>\n",
       "    </tr>\n",
       "    <tr>\n",
       "      <th>21</th>\n",
       "      <td>reward_rate</td>\n",
       "      <td>-0.189323</td>\n",
       "    </tr>\n",
       "    <tr>\n",
       "      <th>22</th>\n",
       "      <td>is_referred</td>\n",
       "      <td>0.060888</td>\n",
       "    </tr>\n",
       "    <tr>\n",
       "      <th>23</th>\n",
       "      <td>housing_O</td>\n",
       "      <td>-0.066329</td>\n",
       "    </tr>\n",
       "    <tr>\n",
       "      <th>24</th>\n",
       "      <td>housing_R</td>\n",
       "      <td>0.021859</td>\n",
       "    </tr>\n",
       "    <tr>\n",
       "      <th>25</th>\n",
       "      <td>payment_type_Bi-Weekly</td>\n",
       "      <td>-0.081997</td>\n",
       "    </tr>\n",
       "    <tr>\n",
       "      <th>26</th>\n",
       "      <td>payment_type_Monthly</td>\n",
       "      <td>-0.037131</td>\n",
       "    </tr>\n",
       "    <tr>\n",
       "      <th>27</th>\n",
       "      <td>payment_type_Semi-Monthly</td>\n",
       "      <td>-0.050697</td>\n",
       "    </tr>\n",
       "    <tr>\n",
       "      <th>28</th>\n",
       "      <td>payment_type_Weekly</td>\n",
       "      <td>0.040664</td>\n",
       "    </tr>\n",
       "    <tr>\n",
       "      <th>29</th>\n",
       "      <td>zodiac_sign_Aquarius</td>\n",
       "      <td>-0.023777</td>\n",
       "    </tr>\n",
       "    <tr>\n",
       "      <th>30</th>\n",
       "      <td>zodiac_sign_Aries</td>\n",
       "      <td>0.041025</td>\n",
       "    </tr>\n",
       "    <tr>\n",
       "      <th>31</th>\n",
       "      <td>zodiac_sign_Cancer</td>\n",
       "      <td>0.001050</td>\n",
       "    </tr>\n",
       "    <tr>\n",
       "      <th>32</th>\n",
       "      <td>zodiac_sign_Capricorn</td>\n",
       "      <td>0.067657</td>\n",
       "    </tr>\n",
       "    <tr>\n",
       "      <th>33</th>\n",
       "      <td>zodiac_sign_Gemini</td>\n",
       "      <td>0.001322</td>\n",
       "    </tr>\n",
       "    <tr>\n",
       "      <th>34</th>\n",
       "      <td>zodiac_sign_Leo</td>\n",
       "      <td>0.000197</td>\n",
       "    </tr>\n",
       "    <tr>\n",
       "      <th>35</th>\n",
       "      <td>zodiac_sign_Libra</td>\n",
       "      <td>0.013393</td>\n",
       "    </tr>\n",
       "    <tr>\n",
       "      <th>36</th>\n",
       "      <td>zodiac_sign_Pisces</td>\n",
       "      <td>0.076852</td>\n",
       "    </tr>\n",
       "    <tr>\n",
       "      <th>37</th>\n",
       "      <td>zodiac_sign_Sagittarius</td>\n",
       "      <td>0.013287</td>\n",
       "    </tr>\n",
       "    <tr>\n",
       "      <th>38</th>\n",
       "      <td>zodiac_sign_Scorpio</td>\n",
       "      <td>-0.026679</td>\n",
       "    </tr>\n",
       "    <tr>\n",
       "      <th>39</th>\n",
       "      <td>zodiac_sign_Taurus</td>\n",
       "      <td>0.023918</td>\n",
       "    </tr>\n",
       "    <tr>\n",
       "      <th>40</th>\n",
       "      <td>zodiac_sign_Virgo</td>\n",
       "      <td>0.016457</td>\n",
       "    </tr>\n",
       "  </tbody>\n",
       "</table>\n",
       "</div>"
      ],
      "text/plain": [
       "                     features      coef\n",
       "0                         age -0.201519\n",
       "1                    deposits  0.063263\n",
       "2                  withdrawal  0.034039\n",
       "3          purchases_partners -0.774072\n",
       "4                   purchases -0.219370\n",
       "5                    cc_taken  0.055559\n",
       "6              cc_recommended -0.033299\n",
       "7                 cc_disliked  0.007185\n",
       "8                    cc_liked  0.008380\n",
       "9        cc_application_begin  0.051029\n",
       "10             app_downloaded -0.069418\n",
       "11                   web_user  0.127557\n",
       "12                   ios_user  0.171948\n",
       "13               android_user  0.094053\n",
       "14          registered_phones  0.069894\n",
       "15             waiting_4_loan -0.026179\n",
       "16             cancelled_loan  0.064224\n",
       "17              received_loan  0.122553\n",
       "18              rejected_loan  0.107955\n",
       "19    left_for_two_month_plus -0.001896\n",
       "20         left_for_one_month  0.059368\n",
       "21                reward_rate -0.189323\n",
       "22                is_referred  0.060888\n",
       "23                  housing_O -0.066329\n",
       "24                  housing_R  0.021859\n",
       "25     payment_type_Bi-Weekly -0.081997\n",
       "26       payment_type_Monthly -0.037131\n",
       "27  payment_type_Semi-Monthly -0.050697\n",
       "28        payment_type_Weekly  0.040664\n",
       "29       zodiac_sign_Aquarius -0.023777\n",
       "30          zodiac_sign_Aries  0.041025\n",
       "31         zodiac_sign_Cancer  0.001050\n",
       "32      zodiac_sign_Capricorn  0.067657\n",
       "33         zodiac_sign_Gemini  0.001322\n",
       "34            zodiac_sign_Leo  0.000197\n",
       "35          zodiac_sign_Libra  0.013393\n",
       "36         zodiac_sign_Pisces  0.076852\n",
       "37    zodiac_sign_Sagittarius  0.013287\n",
       "38        zodiac_sign_Scorpio -0.026679\n",
       "39         zodiac_sign_Taurus  0.023918\n",
       "40          zodiac_sign_Virgo  0.016457"
      ]
     },
     "execution_count": 76,
     "metadata": {},
     "output_type": "execute_result"
    }
   ],
   "source": [
    "# Analyzing Coefficients\n",
    "pd.concat([pd.DataFrame(X_train.columns, columns = [\"features\"]),\n",
    "           pd.DataFrame(np.transpose(classifier.coef_), columns = [\"coef\"])\n",
    "           ],axis = 1)"
   ]
  },
  {
   "cell_type": "markdown",
   "metadata": {},
   "source": [
    "# STEP #3 FEATURE SELECTION"
   ]
  },
  {
   "cell_type": "code",
   "execution_count": 77,
   "metadata": {},
   "outputs": [],
   "source": [
    "# Recursive Feature Elimination\n",
    "from sklearn.feature_selection import RFE\n",
    "from sklearn.linear_model import LogisticRegression"
   ]
  },
  {
   "cell_type": "code",
   "execution_count": 81,
   "metadata": {},
   "outputs": [],
   "source": [
    "# Model to Test\n",
    "classifier = LogisticRegression()"
   ]
  },
  {
   "cell_type": "code",
   "execution_count": 83,
   "metadata": {},
   "outputs": [],
   "source": [
    "# Select Best X Features\n",
    "rfe = RFE(estimator=classifier, n_features_to_select=20)\n",
    "rfe = rfe.fit(X_train, y_train)"
   ]
  },
  {
   "cell_type": "code",
   "execution_count": 85,
   "metadata": {},
   "outputs": [
    {
     "name": "stdout",
     "output_type": "stream",
     "text": [
      "[ True  True False  True  True  True False False False False  True  True\n",
      "  True  True  True False  True  True  True False  True  True  True  True\n",
      " False False False False  True False False False  True False False False\n",
      "  True False False False False]\n"
     ]
    }
   ],
   "source": [
    "# summarize the selection of the attributes\n",
    "print(rfe.support_)"
   ]
  },
  {
   "cell_type": "code",
   "execution_count": 88,
   "metadata": {},
   "outputs": [
    {
     "name": "stdout",
     "output_type": "stream",
     "text": [
      "[ 1  1  7  1  1  1 10 18 17  2  1  1  1  1  1 11  1  1  1 19  1  1  1  1\n",
      " 12  3  6  5  1  9  4 21  1 20 22 16  1 15  8 13 14]\n"
     ]
    }
   ],
   "source": [
    "print(rfe.ranking_)"
   ]
  },
  {
   "cell_type": "code",
   "execution_count": 89,
   "metadata": {},
   "outputs": [
    {
     "data": {
      "text/plain": [
       "Index(['age', 'deposits', 'purchases_partners', 'purchases', 'cc_taken',\n",
       "       'app_downloaded', 'web_user', 'ios_user', 'android_user',\n",
       "       'registered_phones', 'cancelled_loan', 'received_loan', 'rejected_loan',\n",
       "       'left_for_one_month', 'reward_rate', 'is_referred', 'housing_O',\n",
       "       'payment_type_Weekly', 'zodiac_sign_Capricorn', 'zodiac_sign_Pisces'],\n",
       "      dtype='object')"
      ]
     },
     "execution_count": 89,
     "metadata": {},
     "output_type": "execute_result"
    }
   ],
   "source": [
    "X_train.columns[rfe.support_]"
   ]
  },
  {
   "cell_type": "code",
   "execution_count": null,
   "metadata": {},
   "outputs": [],
   "source": []
  },
  {
   "cell_type": "code",
   "execution_count": null,
   "metadata": {},
   "outputs": [],
   "source": []
  },
  {
   "cell_type": "code",
   "execution_count": null,
   "metadata": {},
   "outputs": [],
   "source": []
  },
  {
   "cell_type": "code",
   "execution_count": null,
   "metadata": {},
   "outputs": [],
   "source": []
  },
  {
   "cell_type": "code",
   "execution_count": null,
   "metadata": {},
   "outputs": [],
   "source": []
  },
  {
   "cell_type": "code",
   "execution_count": null,
   "metadata": {},
   "outputs": [],
   "source": []
  }
 ],
 "metadata": {
  "kernelspec": {
   "display_name": "base",
   "language": "python",
   "name": "python3"
  },
  "language_info": {
   "codemirror_mode": {
    "name": "ipython",
    "version": 3
   },
   "file_extension": ".py",
   "mimetype": "text/x-python",
   "name": "python",
   "nbconvert_exporter": "python",
   "pygments_lexer": "ipython3",
   "version": "3.10.9"
  }
 },
 "nbformat": 4,
 "nbformat_minor": 2
}
